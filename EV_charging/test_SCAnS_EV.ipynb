{
 "cells": [
  {
   "cell_type": "markdown",
   "id": "1e3b1969",
   "metadata": {},
   "source": [
    "Contract Formulation"
   ]
  },
  {
   "cell_type": "code",
   "execution_count": null,
   "id": "69eaf4cf",
   "metadata": {},
   "outputs": [],
   "source": [
    "cno_contract = {\n",
    "    \"assumptions\" : \"road network has 5 nodes\",\n",
    "    \"guarantees\" : \"Provides 2 charger locations, q1 <= 2, q1<=q2, q1+q2<8\"\n",
    "}"
   ]
  },
  {
   "cell_type": "code",
   "execution_count": null,
   "id": "d7b56619",
   "metadata": {},
   "outputs": [],
   "source": [
    "vehicle_contract = {\n",
    "    \"assumption\": \"chargers at q1, q2; price ≤ budget, there will always be 2 chargers in the system\",\n",
    "    \"guarantee\": \"SOC ≥ 5 at end, SOC ≥ 4 always, budget ≥ 0 always, reach node 4\"\n",
    "}"
   ]
  }
 ],
 "metadata": {
  "language_info": {
   "name": "python"
  }
 },
 "nbformat": 4,
 "nbformat_minor": 5
}
