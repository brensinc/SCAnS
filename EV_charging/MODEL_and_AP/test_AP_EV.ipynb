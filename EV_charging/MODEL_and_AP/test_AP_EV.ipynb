{
 "cells": [
  {
   "cell_type": "code",
   "execution_count": null,
   "id": "99d81113",
   "metadata": {},
   "outputs": [],
   "source": [
    "contract_cno = {\n",
    "    \"assumptions\": \"True\",\n",
    "    \"guarantees\": \"AP(5) and AP(6) and AP(7)\"\n",
    "}\n",
    "\n",
    "contract_vehicle = {\n",
    "    \"assumptions\": \"AP(5) and AP(6) and AP(7)\",\n",
    "    \"guarantees\": \"G[0,T-1](AP(0) and AP(2)) and AP(1) and AP(3) and AP(4)\"\n",
    "}"
   ]
  },
  {
   "cell_type": "code",
   "execution_count": null,
   "id": "7a35eef3",
   "metadata": {},
   "outputs": [
    {
     "ename": "ModuleNotFoundError",
     "evalue": "No module named 'Contract_Operation'",
     "output_type": "error",
     "traceback": [
      "\u001b[0;31m---------------------------------------------------------------------------\u001b[0m",
      "\u001b[0;31mModuleNotFoundError\u001b[0m                       Traceback (most recent call last)",
      "Cell \u001b[0;32mIn[3], line 56\u001b[0m\n\u001b[1;32m     50\u001b[0m guarantees_vehicle \u001b[38;5;241m=\u001b[39m (\n\u001b[1;32m     51\u001b[0m     \u001b[38;5;124m\"\u001b[39m\u001b[38;5;124mG[0,T-1](AP(0) and AP(2)) and AP(1) and AP(3) and AP(4)\u001b[39m\u001b[38;5;124m\"\u001b[39m\n\u001b[1;32m     52\u001b[0m )\n\u001b[1;32m     54\u001b[0m \u001b[38;5;66;03m# Bundle contracts\u001b[39;00m\n\u001b[0;32m---> 56\u001b[0m \u001b[38;5;28;01mfrom\u001b[39;00m \u001b[38;5;21;01mContract_Operation\u001b[39;00m\u001b[38;5;21;01m.\u001b[39;00m\u001b[38;5;21;01mmake_contract\u001b[39;00m \u001b[38;5;28;01mimport\u001b[39;00m make_contract\n\u001b[1;32m     58\u001b[0m contract_cno \u001b[38;5;241m=\u001b[39m make_contract(assumptions_cno, guarantees_cno)\n\u001b[1;32m     59\u001b[0m contract_vehicle \u001b[38;5;241m=\u001b[39m make_contract(assumptions_vehicle, guarantees_vehicle)\n",
      "\u001b[0;31mModuleNotFoundError\u001b[0m: No module named 'Contract_Operation'"
     ]
    }
   ],
   "source": [
    "# Updated AP definitions with time-bounded semantics\n",
    "\n",
    "import pandas as pd\n",
    "from IPython.display import display\n",
    "\n",
    "# Extended AP structure to include temporal bounds\n",
    "def create_ap(a, b, c, p, t_start=None, t_end=None):\n",
    "    return {\n",
    "        \"a\": a,\n",
    "        \"b\": b,\n",
    "        \"c\": c,\n",
    "        \"p\": p,\n",
    "        \"t_start\": t_start,\n",
    "        \"t_end\": t_end\n",
    "    }\n",
    "\n",
    "AP = []\n",
    "\n",
    "# --- Vehicle Guarantees with Time Horizons ---\n",
    "# AP0: SOC[t] >= 4, for all t in [0, T-1]\n",
    "AP.append(create_ap(a=[-1, 0, 0, 0, 0], b=[0, 0, 0], c=4, p=1, t_start=0, t_end=\"T-1\"))\n",
    "\n",
    "# AP1: SOC[T] >= 5, only at final time\n",
    "AP.append(create_ap(a=[-1, 0, 0, 0, 0], b=[0, 0, 0], c=5, p=1, t_start=\"T\", t_end=\"T\"))\n",
    "\n",
    "# AP2: budget[t] >= 0, for all t in [0, T-1]\n",
    "AP.append(create_ap(a=[0, -1, 0, 0, 0], b=[0, 0, 0], c=0, p=1, t_start=0, t_end=\"T-1\"))\n",
    "\n",
    "# AP3: pos[T] <= 4, only at final time\n",
    "AP.append(create_ap(a=[0, 0, -1, 0, 0], b=[0, 0, 0], c=4, p=1, t_start=\"T\", t_end=\"T\"))\n",
    "\n",
    "# AP4: pos[T] >= 4, only at final time\n",
    "AP.append(create_ap(a=[0, 0, 1, 0, 0], b=[0, 0, 0], c=-4, p=1, t_start=\"T\", t_end=\"T\"))\n",
    "\n",
    "# --- CNO Guarantees ---\n",
    "# AP5: q1 + q2 <= 7, time-independent\n",
    "AP.append(create_ap(a=[0, 0, 0, 1, 1], b=[0, 0, 0], c=-7, p=1))\n",
    "\n",
    "# AP6: q1 <= q2\n",
    "AP.append(create_ap(a=[0, 0, 0, 1, -1], b=[0, 0, 0], c=0, p=1))\n",
    "\n",
    "# AP7: q1 <= 2\n",
    "AP.append(create_ap(a=[0, 0, 0, 1, 0], b=[0, 0, 0], c=-2, p=1))\n",
    "\n",
    "# Define assumption and guarantee strings with temporal logic\n",
    "assumptions_cno = \"True\"\n",
    "guarantees_cno = \"AP(5) and AP(6) and AP(7)\"\n",
    "\n",
    "assumptions_vehicle = \"AP(5) and AP(6) and AP(7)\"\n",
    "guarantees_vehicle = (\n",
    "    \"G[0,T-1](AP(0) and AP(2)) and AP(1) and AP(3) and AP(4)\"\n",
    ")\n",
    "\n",
    "# Bundle contracts\n",
    "\n",
    "\n",
    "from Contract_Operation.make_contract import make_contract\n",
    "\n",
    "contract_cno = make_contract(assumptions_cno, guarantees_cno)\n",
    "contract_vehicle = make_contract(assumptions_vehicle, guarantees_vehicle)\n",
    "\n",
    "# Display as DataFrame\n",
    "df_ap = pd.DataFrame(AP)\n",
    "display(\"Atomic Propositions with Time Bounds\", df_ap)\n",
    "\n",
    "(contract_cno, contract_vehicle)\n"
   ]
  },
  {
   "cell_type": "markdown",
   "id": "53a3a253",
   "metadata": {},
   "source": [
    "Tests ap_to_neces_mip_ev"
   ]
  },
  {
   "cell_type": "code",
   "execution_count": null,
   "id": "e716efae",
   "metadata": {},
   "outputs": [],
   "source": [
    "from AP_to_neces_MIP_EPS import ap_to_neces_mip_ev\n",
    "\n",
    "AP_tag =  \n",
    "k = \n",
    "formu_index = \n",
    "neg_prefix =  \n",
    "x_vars =  \n",
    "u_vars = \n",
    "\n",
    "ap_to_neces_mip_ev()"
   ]
  }
 ],
 "metadata": {
  "kernelspec": {
   "display_name": "machine_learning",
   "language": "python",
   "name": "python3"
  },
  "language_info": {
   "codemirror_mode": {
    "name": "ipython",
    "version": 3
   },
   "file_extension": ".py",
   "mimetype": "text/x-python",
   "name": "python",
   "nbconvert_exporter": "python",
   "pygments_lexer": "ipython3",
   "version": "3.10.16"
  }
 },
 "nbformat": 4,
 "nbformat_minor": 5
}
